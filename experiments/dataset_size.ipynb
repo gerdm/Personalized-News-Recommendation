{
 "cells": [
  {
   "cell_type": "markdown",
   "metadata": {},
   "source": [
    "# Tests with different dataset sizes"
   ]
  },
  {
   "cell_type": "code",
   "execution_count": 1,
   "metadata": {},
   "outputs": [
    {
     "data": {
      "text/plain": [
       "[TpuDevice(id=0, process_index=0, coords=(0,0,0), core_on_chip=0),\n",
       " TpuDevice(id=1, process_index=0, coords=(0,0,0), core_on_chip=1),\n",
       " TpuDevice(id=2, process_index=0, coords=(0,1,0), core_on_chip=0),\n",
       " TpuDevice(id=3, process_index=0, coords=(0,1,0), core_on_chip=1)]"
      ]
     },
     "execution_count": 1,
     "metadata": {},
     "output_type": "execute_result"
    }
   ],
   "source": [
    "import os\n",
    "\n",
    "# 2x 2 chips (4 cores) per process:\n",
    "os.environ[\"TPU_CHIPS_PER_HOST_BOUNDS\"] = \"1,2,1\"\n",
    "os.environ[\"TPU_HOST_BOUNDS\"] = \"1,1,1\"\n",
    "# Different per process:\n",
    "os.environ[\"TPU_VISIBLE_DEVICES\"] = \"0,1\" # Change to \"2,3\" for the second machine\n",
    "# Pick a unique port per process\n",
    "os.environ[\"TPU_MESH_CONTROLLER_ADDRESS\"] = \"localhost:8476\"\n",
    "os.environ[\"TPU_MESH_CONTROLLER_PORT\"] = \"8476\"\n",
    "\n",
    "import jax\n",
    "jax.devices()"
   ]
  },
  {
   "cell_type": "code",
   "execution_count": 2,
   "metadata": {},
   "outputs": [],
   "source": [
    "import jax.numpy as jnp"
   ]
  },
  {
   "cell_type": "code",
   "execution_count": 3,
   "metadata": {},
   "outputs": [
    {
     "data": {
      "text/plain": [
       "'/home/gerardoduran/documents/Personalized-News-Recommendation'"
      ]
     },
     "execution_count": 3,
     "metadata": {},
     "output_type": "execute_result"
    }
   ],
   "source": [
    "import os\n",
    "os.chdir('..')\n",
    "os.getcwd()"
   ]
  },
  {
   "cell_type": "code",
   "execution_count": 4,
   "metadata": {},
   "outputs": [
    {
     "name": "stdout",
     "output_type": "stream",
     "text": [
      "LICENSE      __pycache__  bbj-deprecated    notebooks\t      scripts\n",
      "README.md    bandit-data  bbj_vs_bandit.py  paper\n",
      "__init__.py  bandits\t  misc\t\t    requirements.txt\n"
     ]
    }
   ],
   "source": [
    "# We need direct access to the Zeus project\n",
    "!ls ../zeus/"
   ]
  },
  {
   "cell_type": "code",
   "execution_count": 5,
   "metadata": {},
   "outputs": [],
   "source": [
    "import sys\n",
    "sys.path.append(\"..\") # access zeus"
   ]
  },
  {
   "cell_type": "code",
   "execution_count": 6,
   "metadata": {
    "pycharm": {
     "is_executing": false,
     "name": "#%%\n"
    }
   },
   "outputs": [],
   "source": [
    "%load_ext autoreload\n",
    "%autoreload 2\n",
    "from bandits import *\n",
    "from evaluator import evaluate\n",
    "from matplotlib import pyplot as plt\n",
    "import pandas as pd"
   ]
  },
  {
   "cell_type": "code",
   "execution_count": 178,
   "metadata": {},
   "outputs": [],
   "source": [
    "%config InlineBackend.figure_format = \"retina\""
   ]
  },
  {
   "cell_type": "code",
   "execution_count": 7,
   "metadata": {
    "pycharm": {
     "is_executing": false,
     "name": "#%%\n"
    }
   },
   "outputs": [
    {
     "name": "stdout",
     "output_type": "stream",
     "text": [
      "3966363 events with 39 articles\n",
      "CPU times: user 1min 51s, sys: 3.51 s, total: 1min 54s\n",
      "Wall time: 1min 54s\n"
     ]
    }
   ],
   "source": [
    "%%time\n",
    "import dataset\n",
    "base_dir = \"../zeus/bandit-data/R6\"\n",
    "files = [\"ydata-fp-td-clicks-v1_0.20090503\", \"ydata-fp-td-clicks-v1_0.20090510\"]\n",
    "files = [\"ydata-fp-td-clicks-v1_0.20090503\"]\n",
    "files = [os.path.join(base_dir, file) for file in files]\n",
    "dataset.get_yahoo_events(files)"
   ]
  },
  {
   "cell_type": "markdown",
   "metadata": {},
   "source": [
    "## Evaluator descriptor\n",
    "\n",
    "Running `dataset.get_yahoo_events(files)` defines the following variables for `datasets`\n",
    "1. `n_arms`\n",
    "2. `n_events`\n",
    "3. `features`\n",
    "4. `events`\n",
    "5. `articles` List of observed articles"
   ]
  },
  {
   "cell_type": "code",
   "execution_count": 8,
   "metadata": {},
   "outputs": [
    {
     "data": {
      "text/plain": [
       "39"
      ]
     },
     "execution_count": 8,
     "metadata": {},
     "output_type": "execute_result"
    }
   ],
   "source": [
    "dataset.n_arms"
   ]
  },
  {
   "cell_type": "code",
   "execution_count": 9,
   "metadata": {},
   "outputs": [
    {
     "data": {
      "text/plain": [
       "3966363"
      ]
     },
     "execution_count": 9,
     "metadata": {},
     "output_type": "execute_result"
    }
   ],
   "source": [
    "dataset.n_events"
   ]
  },
  {
   "cell_type": "code",
   "execution_count": 17,
   "metadata": {},
   "outputs": [
    {
     "data": {
      "text/plain": [
       "(39, 6)"
      ]
     },
     "execution_count": 17,
     "metadata": {},
     "output_type": "execute_result"
    }
   ],
   "source": [
    "# Features of each of the articles\n",
    "dataset.features.shape"
   ]
  },
  {
   "cell_type": "code",
   "execution_count": 11,
   "metadata": {},
   "outputs": [
    {
     "data": {
      "text/plain": [
       "[11,\n",
       " 0,\n",
       " [0.000719, 1.6e-05, 0.00018, 0.000401, 0.998684, 1.0],\n",
       " [0, 1, 2, 3, 4, 5, 6, 7, 8, 9, 10, 11, 12, 13, 14, 15, 16, 17, 18]]"
      ]
     },
     "execution_count": 11,
     "metadata": {},
     "output_type": "execute_result"
    }
   ],
   "source": [
    "# List containing:\n",
    "# 1. Position of the shown article\n",
    "# 2. Whether the article was clicked or not\n",
    "# 3. The user features\n",
    "# 4. The indices of the articles in the context\n",
    "dataset.events[0]"
   ]
  },
  {
   "cell_type": "code",
   "execution_count": 12,
   "metadata": {},
   "outputs": [
    {
     "data": {
      "text/plain": [
       "'109565'"
      ]
     },
     "execution_count": 12,
     "metadata": {},
     "output_type": "execute_result"
    }
   ],
   "source": [
    "dataset.articles[11]"
   ]
  },
  {
   "cell_type": "markdown",
   "metadata": {},
   "source": [
    "### Sample of values for testing/debugging"
   ]
  },
  {
   "cell_type": "code",
   "execution_count": 193,
   "metadata": {},
   "outputs": [],
   "source": [
    "sample_size = 200_000\n",
    "events_sample = dataset.events[:sample_size]"
   ]
  },
  {
   "cell_type": "markdown",
   "metadata": {},
   "source": [
    "Parsing dataset to run inside the TPU using Jax"
   ]
  },
  {
   "cell_type": "code",
   "execution_count": 194,
   "metadata": {},
   "outputs": [],
   "source": [
    "from tqdm.notebook import tqdm"
   ]
  },
  {
   "cell_type": "code",
   "execution_count": 195,
   "metadata": {},
   "outputs": [
    {
     "data": {
      "application/vnd.jupyter.widget-view+json": {
       "model_id": "a943d45fad0f4f5f9a4a0992645a9fbe",
       "version_major": 2,
       "version_minor": 0
      },
      "text/plain": [
       "  0%|          | 0/200000 [00:00<?, ?it/s]"
      ]
     },
     "metadata": {},
     "output_type": "display_data"
    }
   ],
   "source": [
    "chosen_articles_samp = []\n",
    "clicked_samp = []\n",
    "user_features_samp = []\n",
    "articles_context_samp = []\n",
    "\n",
    "for event in tqdm(events_sample):\n",
    "    chosen_article, clicked, user_features, articles_context = event\n",
    "    chosen_articles_samp.append(chosen_article)\n",
    "    clicked_samp.append(clicked)\n",
    "    user_features_samp.append(user_features)\n",
    "    articles_context_samp.append(articles_context)\n",
    "    \n",
    "chosen_articles_samp = jnp.array(chosen_articles_samp)\n",
    "clicked_samp = jnp.array(clicked_samp, dtype=float)\n",
    "user_features_samp = jnp.array(user_features_samp)\n",
    "articles_context_samp = jnp.array(articles_context_samp)\n",
    "\n",
    "# np -> jnp\n",
    "articles_features = jnp.array(dataset.features)"
   ]
  },
  {
   "cell_type": "markdown",
   "metadata": {},
   "source": [
    "# Replay Method"
   ]
  },
  {
   "cell_type": "code",
   "execution_count": 196,
   "metadata": {},
   "outputs": [],
   "source": [
    "from zeus.bandits.agents import linear_bandit"
   ]
  },
  {
   "cell_type": "code",
   "execution_count": 197,
   "metadata": {},
   "outputs": [],
   "source": [
    "class OfflineReplayYahoo:\n",
    "    def __init__(self, bandit, articles_features):\n",
    "        self.bandit = bandit\n",
    "        self.articles_features = articles_features\n",
    "    \n",
    "    @staticmethod\n",
    "    def is_accepted_action(observed_action, estimated_action):\n",
    "        accepted = jax.lax.cond(observed_action == estimated_action, lambda _: True, lambda _: False, None)\n",
    "        return accepted\n",
    "    \n",
    "    def update_if_accepted(self, observed_action, estimated_action, input_vals):\n",
    "        \"\"\"\n",
    "        Parameters\n",
    "        ----------\n",
    "        observed_action: int\n",
    "            The observed action in the logs\n",
    "        estimated_action: int\n",
    "            Action chosen by the bandit\n",
    "        input_vals: tuple\n",
    "            (params, total_reward, n_events, action, context, reward)\n",
    "        \"\"\"\n",
    "        ans = jax.lax.cond(observed_action == estimated_action, self.replay_update, lambda _: input_vals[:3], input_vals)\n",
    "        return ans\n",
    "\n",
    "    def replay_update(self, xs):\n",
    "        params, total_reward, n_events, action, context, reward = xs\n",
    "        params = self.bandit.update_bel(params, context, action, reward)\n",
    "        total_reward = total_reward + reward\n",
    "        n_events = n_events + 1\n",
    "        return params, total_reward, n_events\n",
    "\n",
    "    def replay_step(self, state, xs):\n",
    "        params, total_reward, n_events = state\n",
    "        key, observed_action, user_features, context_articles, reward = xs\n",
    "        \n",
    "        # Retrieve article features and create the context\n",
    "        articles_context = self.articles_features[context_articles, :].ravel()\n",
    "        context = jnp.concatenate([user_features, articles_context])\n",
    "\n",
    "        action_est = self.bandit.choose_action(key, params, context)\n",
    "\n",
    "        input_val = (params, total_reward, n_events, action_est, context, reward)\n",
    "\n",
    "        params, total_reward, n_events = self.update_if_accepted(observed_action, action_est, input_val)\n",
    "        carry_ = self.is_accepted_action(observed_action, action_est)\n",
    "        return (params, total_reward, n_events), (total_reward, n_events, carry_)\n",
    "    \n",
    "    def run(self, key, init_params, users_features, observed_articles, articles, rewards):\n",
    "        num_obs, *_ = users_features.shape\n",
    "        key_steps = jax.random.split(key, num_obs)\n",
    "        init_state = (init_params, 0.0, 0.0)\n",
    "        xs = (key_steps, observed_articles, users_features, articles, rewards)\n",
    "        res, hist = jax.lax.scan(self.replay_step, init_state, xs)\n",
    "        return res, hist\n",
    "    \n",
    "    def run_vmap(self, key, init_params, context, actions, rewards, num_trials):\n",
    "        keys = jax.random.split(key, num_trials)\n",
    "        run_part = partial(self.run, init_params=init_params, context=context, actions=actions, rewards=rewards)\n",
    "        run_part_vmap = jax.vmap(lambda k: run_part(k))\n",
    "        return run_part_vmap(keys)"
   ]
  },
  {
   "cell_type": "code",
   "execution_count": 198,
   "metadata": {},
   "outputs": [
    {
     "name": "stdout",
     "output_type": "stream",
     "text": [
      "Variable                  Type           Data/Info\n",
      "--------------------------------------------------\n",
      "actions_samp              DeviceArray    [11  0  4  9  9  7 12 18 <...> 15  0 14  3 17 13 10  8]\n",
      "articles_context_samp     DeviceArray    [[ 0  1  2 ... 16 17 18]\\<...> [ 0  1  2 ... 16 17 18]]\n",
      "articles_context_train    DeviceArray    [[ 0  1  2 ... 16 17 18]\\<...> [ 0  1  2 ... 16 17 18]]\n",
      "articles_context_warmup   DeviceArray    [[4.21669e-01 1.10000e-05<...>0099e-01\\n  1.00000e+00]]\n",
      "articles_features         DeviceArray    [[4.21669e-01 1.10000e-05<...>2.83587e-01 1.00000e+00]]\n",
      "carry_hist                DeviceArray    [False False False ... False False False]\n",
      "chosen_articles_samp      DeviceArray    [11  0  4 ...  0 17 15]\n",
      "chosen_articles_train     DeviceArray    [14  7 16 ... 16  0  7]\n",
      "clicked_samp              DeviceArray    [0. 0. 0. ... 0. 0. 0.]\n",
      "clicked_train             DeviceArray    [0. 0. 0. ... 0. 0. 0.]\n",
      "context                   DeviceArray    [7.19000e-04 1.60000e-05 <...> 2.50099e-01 1.00000e+00]\n",
      "context_warmup            DeviceArray    [[7.19000e-04 1.60000e-05<...>0099e-01\\n  1.00000e+00]]\n",
      "key                       DeviceArray    [  0 314]\n",
      "n_events_hist             DeviceArray    [0. 0. 0. ... 5. 5. 5.]\n",
      "rewards_samp              DeviceArray    [0. 0. 0. 0. 0. 0. 0. 0. <...> 0. 0. 0. 0. 0. 0. 0. 0.]\n",
      "total_reward_hist         DeviceArray    [0. 0. 0. ... 1. 1. 1.]\n",
      "user_context_warmup       DeviceArray    [[7.19000e-04 1.60000e-05<...>4.00000e-06 1.00000e+00]]\n",
      "user_features_samp        DeviceArray    [[7.19000e-04 1.60000e-05<...>3.51760e-02 1.00000e+00]]\n",
      "user_features_train       DeviceArray    [[2.73400e-02 6.80000e-05<...>9.51348e-01 1.00000e+00]]\n",
      "user_features_warmup      DeviceArray    [[7.19000e-04 1.60000e-05<...>4.00000e-06 1.00000e+00]]\n"
     ]
    }
   ],
   "source": [
    "%whos DeviceArray"
   ]
  },
  {
   "cell_type": "code",
   "execution_count": 199,
   "metadata": {},
   "outputs": [],
   "source": [
    "user_features = user_features_samp[0]\n",
    "articles_context = articles_context_samp[0]\n",
    "context = jnp.concatenate([user_features, articles_features[articles_context, :].ravel()])\n",
    "\n",
    "num_features = len(context)\n",
    "num_arms, _ = dataset.features.shape"
   ]
  },
  {
   "cell_type": "code",
   "execution_count": 200,
   "metadata": {},
   "outputs": [],
   "source": [
    "bandit = linear_bandit.LinearBandit(num_features, num_arms)\n",
    "env = OfflineReplayYahoo(bandit, articles_features)"
   ]
  },
  {
   "cell_type": "markdown",
   "metadata": {},
   "source": [
    "### Initialise bandit"
   ]
  },
  {
   "cell_type": "code",
   "execution_count": 203,
   "metadata": {},
   "outputs": [
    {
     "data": {
      "text/plain": [
       "(100, 120)"
      ]
     },
     "execution_count": 203,
     "metadata": {},
     "output_type": "execute_result"
    }
   ],
   "source": [
    "n_warmup = 100\n",
    "articles_context_warmup = articles_context_samp[:n_warmup, :]\n",
    "articles_context_warmup = articles_features[articles_context_warmup].reshape(n_warmup, -1)\n",
    "\n",
    "user_context_warmup = user_features_samp[:n_warmup]\n",
    "\n",
    "context_warmup = jnp.concatenate((user_context_warmup, articles_context_warmup), axis=1)\n",
    "context_warmup.shape"
   ]
  },
  {
   "cell_type": "code",
   "execution_count": 204,
   "metadata": {},
   "outputs": [],
   "source": [
    "rewards_samp = clicked_samp[:n_warmup]\n",
    "actions_samp = chosen_articles_samp[:n_warmup]"
   ]
  },
  {
   "cell_type": "code",
   "execution_count": 205,
   "metadata": {},
   "outputs": [],
   "source": [
    "belief_state = bandit.init_bel(None, context_warmup, None, actions_samp, rewards_samp)"
   ]
  },
  {
   "cell_type": "markdown",
   "metadata": {},
   "source": [
    "### Run bandit"
   ]
  },
  {
   "cell_type": "code",
   "execution_count": 206,
   "metadata": {},
   "outputs": [],
   "source": [
    "user_features_train = user_features_samp[n_warmup:, :]\n",
    "chosen_articles_train = chosen_articles_samp[n_warmup:]\n",
    "articles_context_train = articles_context_samp[n_warmup:, :]\n",
    "clicked_train = clicked_samp[n_warmup:]"
   ]
  },
  {
   "cell_type": "code",
   "execution_count": 207,
   "metadata": {},
   "outputs": [],
   "source": [
    "key = jax.random.PRNGKey(314)\n",
    "final_belief_state, (total_reward_hist, n_events_hist, carry_hist) = env.run(key, belief_state, user_features_train, chosen_articles_train, articles_context_train, clicked_train)"
   ]
  },
  {
   "cell_type": "code",
   "execution_count": null,
   "metadata": {},
   "outputs": [],
   "source": [
    "(total_reward_hist * carry_).cumsum()"
   ]
  },
  {
   "cell_type": "code",
   "execution_count": 179,
   "metadata": {},
   "outputs": [
    {
     "data": {
      "text/plain": [
       "DeviceArray([0., 0., 0., ..., 5., 5., 5.], dtype=float32)"
      ]
     },
     "execution_count": 179,
     "metadata": {},
     "output_type": "execute_result"
    }
   ],
   "source": [
    "n_events_hist"
   ]
  },
  {
   "cell_type": "code",
   "execution_count": 187,
   "metadata": {},
   "outputs": [
    {
     "data": {
      "text/plain": [
       "DeviceArray(0.6, dtype=float32)"
      ]
     },
     "execution_count": 187,
     "metadata": {},
     "output_type": "execute_result"
    }
   ],
   "source": [
    "(total_reward_hist * carry_hist).sum() / carry_hist.sum()"
   ]
  },
  {
   "cell_type": "code",
   "execution_count": 177,
   "metadata": {},
   "outputs": [
    {
     "data": {
      "text/plain": [
       "[<matplotlib.lines.Line2D at 0x7f3e124fe7c0>]"
      ]
     },
     "execution_count": 177,
     "metadata": {},
     "output_type": "execute_result"
    },
    {
     "data": {
      "image/png": "[encoded data removed]",
      "text/plain": [
       "<Figure size 432x288 with 1 Axes>"
      ]
     },
     "metadata": {
      "image/png": {
       "height": 252,
       "width": 378
      },
      "needs_background": "light"
     },
     "output_type": "display_data"
    }
   ],
   "source": [
    "plt.plot(total_reward_hist / n_events_hist)"
   ]
  },
  {
   "cell_type": "markdown",
   "metadata": {},
   "source": [
    "----\n",
    "\n",
    "## Original stuff"
   ]
  },
  {
   "cell_type": "code",
   "execution_count": 26,
   "metadata": {},
   "outputs": [
    {
     "name": "stdout",
     "output_type": "stream",
     "text": [
      "Egreedy (ε=1)       0.0326    16.8s\n"
     ]
    }
   ],
   "source": [
    "_, deploy = evaluate(Egreedy(1))\n",
    "rnd_ctr = deploy[-1]"
   ]
  },
  {
   "cell_type": "code",
   "execution_count": 61,
   "metadata": {},
   "outputs": [
    {
     "data": {
      "text/plain": [
       "234"
      ]
     },
     "execution_count": 61,
     "metadata": {},
     "output_type": "execute_result"
    }
   ],
   "source": [
    "np.prod(dataset.features.shape)"
   ]
  },
  {
   "cell_type": "code",
   "execution_count": 58,
   "metadata": {},
   "outputs": [
    {
     "data": {
      "text/plain": [
       "(39, 6)"
      ]
     },
     "execution_count": 58,
     "metadata": {},
     "output_type": "execute_result"
    }
   ],
   "source": [
    "dataset.features.shape"
   ]
  },
  {
   "cell_type": "code",
   "execution_count": 80,
   "metadata": {},
   "outputs": [
    {
     "data": {
      "text/plain": [
       "0.031318616072205194"
      ]
     },
     "execution_count": 80,
     "metadata": {},
     "output_type": "execute_result"
    }
   ],
   "source": [
    "# Number of times the article was clicked\n",
    "np.array([event[1] for event in dataset.events]).mean()"
   ]
  },
  {
   "cell_type": "code",
   "execution_count": 27,
   "metadata": {
    "pycharm": {
     "is_executing": false,
     "name": "#%%\n"
    }
   },
   "outputs": [
    {
     "name": "stdout",
     "output_type": "stream",
     "text": [
      "Egreedy (ε=0.1)     0.0424    21.6s\n",
      "Egreedy (ε=0.1)     0.041     17.0s\n",
      "Egreedy (ε=0.1)     0.041     8.8s\n",
      "Egreedy (ε=0.1)     0.0456    5.2s\n"
     ]
    },
    {
     "data": {
      "image/png": "[encoded data removed]",
      "text/plain": [
       "<Figure size 432x288 with 1 Axes>"
      ]
     },
     "metadata": {
      "needs_background": "light"
     },
     "output_type": "display_data"
    },
    {
     "name": "stdout",
     "output_type": "stream",
     "text": [
      "UCB1 (α=0.1)        0.0415    48.7s\n",
      "UCB1 (α=0.1)        0.0419    28.2s\n",
      "UCB1 (α=0.1)        0.0484    16.3s\n",
      "UCB1 (α=0.1)        0.0445    8.1s\n"
     ]
    },
    {
     "data": {
      "image/png": "[encoded data removed]",
      "text/plain": [
       "<Figure size 432x288 with 1 Axes>"
      ]
     },
     "metadata": {
      "needs_background": "light"
     },
     "output_type": "display_data"
    },
    {
     "name": "stdout",
     "output_type": "stream",
     "text": [
      "LinUCB (α=0.3, context:both)0.0537    4.5m\n",
      "LinUCB (α=0.3, context:both)0.0521    2.4m\n",
      "LinUCB (α=0.3, context:both)0.0501    1.4m\n",
      "LinUCB (α=0.3, context:both)0.0478    42.1s\n"
     ]
    },
    {
     "data": {
      "image/png": "[encoded data removed]",
      "text/plain": [
       "<Figure size 432x288 with 1 Axes>"
      ]
     },
     "metadata": {
      "needs_background": "light"
     },
     "output_type": "display_data"
    },
    {
     "name": "stdout",
     "output_type": "stream",
     "text": [
      "LinUCB (α=0.3, context:user)0.0477    3.2m\n",
      "LinUCB (α=0.3, context:user)0.0504    1.7m\n",
      "LinUCB (α=0.3, context:user)0.0515    1.0m\n",
      "LinUCB (α=0.3, context:user)0.0526    30.4s\n"
     ]
    },
    {
     "data": {
      "image/png": "[encoded data removed]",
      "text/plain": [
       "<Figure size 432x288 with 1 Axes>"
      ]
     },
     "metadata": {
      "needs_background": "light"
     },
     "output_type": "display_data"
    }
   ],
   "source": [
    "sizes = [100,50,30,15]\n",
    "results = [['Size','Bucket','Algorithm','CTR Lift']]\n",
    "\n",
    "algorithms = [Egreedy(0.1),Ucb1(0.1),LinUCB(0.3, context=\"both\"), LinUCB(0.3, context=\"user\")]\n",
    "\n",
    "for test in algorithms:\n",
    "    for size in sizes:\n",
    "        learn ,deploy = evaluate(test,size=size)\n",
    "        results.append([size,'learn',test.algorithm, learn[-1]/rnd_ctr])\n",
    "        results.append([size,'deploy',test.algorithm, deploy[-1]/rnd_ctr])\n",
    "        \n",
    "        plt.plot(deploy[100:5000], label=\"size={}\".format(size))\n",
    "        \n",
    "    plt.title(test.algorithm)\n",
    "    plt.xlabel(\"T\")\n",
    "    plt.ylabel(\"CTR\")\n",
    "    plt.legend(loc='center left', bbox_to_anchor=(1, 0.5))\n",
    "    plt.show()"
   ]
  },
  {
   "cell_type": "code",
   "execution_count": 6,
   "metadata": {
    "pycharm": {
     "is_executing": false,
     "name": "#%%\n"
    }
   },
   "outputs": [
    {
     "data": {
      "text/html": [
       "<div>\n",
       "<style scoped>\n",
       "    .dataframe tbody tr th:only-of-type {\n",
       "        vertical-align: middle;\n",
       "    }\n",
       "\n",
       "    .dataframe tbody tr th {\n",
       "        vertical-align: top;\n",
       "    }\n",
       "\n",
       "    .dataframe thead th {\n",
       "        text-align: right;\n",
       "    }\n",
       "</style>\n",
       "<table border=\"1\" class=\"dataframe\">\n",
       "  <thead>\n",
       "    <tr style=\"text-align: right;\">\n",
       "      <th></th>\n",
       "      <th>Size</th>\n",
       "      <th>Bucket</th>\n",
       "      <th>Algorithm</th>\n",
       "      <th>CTR Lift</th>\n",
       "    </tr>\n",
       "  </thead>\n",
       "  <tbody>\n",
       "    <tr>\n",
       "      <th>1</th>\n",
       "      <td>100</td>\n",
       "      <td>learn</td>\n",
       "      <td>Egreedy (ε=0.1)</td>\n",
       "      <td>1.425223</td>\n",
       "    </tr>\n",
       "    <tr>\n",
       "      <th>2</th>\n",
       "      <td>100</td>\n",
       "      <td>deploy</td>\n",
       "      <td>Egreedy (ε=0.1)</td>\n",
       "      <td>1.406137</td>\n",
       "    </tr>\n",
       "    <tr>\n",
       "      <th>3</th>\n",
       "      <td>50</td>\n",
       "      <td>learn</td>\n",
       "      <td>Egreedy (ε=0.1)</td>\n",
       "      <td>1.439401</td>\n",
       "    </tr>\n",
       "    <tr>\n",
       "      <th>4</th>\n",
       "      <td>50</td>\n",
       "      <td>deploy</td>\n",
       "      <td>Egreedy (ε=0.1)</td>\n",
       "      <td>1.413857</td>\n",
       "    </tr>\n",
       "    <tr>\n",
       "      <th>5</th>\n",
       "      <td>30</td>\n",
       "      <td>learn</td>\n",
       "      <td>Egreedy (ε=0.1)</td>\n",
       "      <td>1.422329</td>\n",
       "    </tr>\n",
       "    <tr>\n",
       "      <th>6</th>\n",
       "      <td>30</td>\n",
       "      <td>deploy</td>\n",
       "      <td>Egreedy (ε=0.1)</td>\n",
       "      <td>1.507054</td>\n",
       "    </tr>\n",
       "    <tr>\n",
       "      <th>7</th>\n",
       "      <td>15</td>\n",
       "      <td>learn</td>\n",
       "      <td>Egreedy (ε=0.1)</td>\n",
       "      <td>1.423876</td>\n",
       "    </tr>\n",
       "    <tr>\n",
       "      <th>8</th>\n",
       "      <td>15</td>\n",
       "      <td>deploy</td>\n",
       "      <td>Egreedy (ε=0.1)</td>\n",
       "      <td>1.520571</td>\n",
       "    </tr>\n",
       "    <tr>\n",
       "      <th>9</th>\n",
       "      <td>100</td>\n",
       "      <td>learn</td>\n",
       "      <td>UCB1 (α=0.1)</td>\n",
       "      <td>1.472481</td>\n",
       "    </tr>\n",
       "    <tr>\n",
       "      <th>10</th>\n",
       "      <td>100</td>\n",
       "      <td>deploy</td>\n",
       "      <td>UCB1 (α=0.1)</td>\n",
       "      <td>1.508754</td>\n",
       "    </tr>\n",
       "    <tr>\n",
       "      <th>11</th>\n",
       "      <td>50</td>\n",
       "      <td>learn</td>\n",
       "      <td>UCB1 (α=0.1)</td>\n",
       "      <td>1.45436</td>\n",
       "    </tr>\n",
       "    <tr>\n",
       "      <th>12</th>\n",
       "      <td>50</td>\n",
       "      <td>deploy</td>\n",
       "      <td>UCB1 (α=0.1)</td>\n",
       "      <td>1.454104</td>\n",
       "    </tr>\n",
       "    <tr>\n",
       "      <th>13</th>\n",
       "      <td>30</td>\n",
       "      <td>learn</td>\n",
       "      <td>UCB1 (α=0.1)</td>\n",
       "      <td>1.50944</td>\n",
       "    </tr>\n",
       "    <tr>\n",
       "      <th>14</th>\n",
       "      <td>30</td>\n",
       "      <td>deploy</td>\n",
       "      <td>UCB1 (α=0.1)</td>\n",
       "      <td>1.621313</td>\n",
       "    </tr>\n",
       "    <tr>\n",
       "      <th>15</th>\n",
       "      <td>15</td>\n",
       "      <td>learn</td>\n",
       "      <td>UCB1 (α=0.1)</td>\n",
       "      <td>1.494622</td>\n",
       "    </tr>\n",
       "    <tr>\n",
       "      <th>16</th>\n",
       "      <td>15</td>\n",
       "      <td>deploy</td>\n",
       "      <td>UCB1 (α=0.1)</td>\n",
       "      <td>1.56577</td>\n",
       "    </tr>\n",
       "    <tr>\n",
       "      <th>17</th>\n",
       "      <td>100</td>\n",
       "      <td>learn</td>\n",
       "      <td>LinUCB (α=0.3, context:both)</td>\n",
       "      <td>1.715395</td>\n",
       "    </tr>\n",
       "    <tr>\n",
       "      <th>18</th>\n",
       "      <td>100</td>\n",
       "      <td>deploy</td>\n",
       "      <td>LinUCB (α=0.3, context:both)</td>\n",
       "      <td>1.689566</td>\n",
       "    </tr>\n",
       "    <tr>\n",
       "      <th>19</th>\n",
       "      <td>50</td>\n",
       "      <td>learn</td>\n",
       "      <td>LinUCB (α=0.3, context:both)</td>\n",
       "      <td>1.754499</td>\n",
       "    </tr>\n",
       "    <tr>\n",
       "      <th>20</th>\n",
       "      <td>50</td>\n",
       "      <td>deploy</td>\n",
       "      <td>LinUCB (α=0.3, context:both)</td>\n",
       "      <td>1.739397</td>\n",
       "    </tr>\n",
       "    <tr>\n",
       "      <th>21</th>\n",
       "      <td>30</td>\n",
       "      <td>learn</td>\n",
       "      <td>LinUCB (α=0.3, context:both)</td>\n",
       "      <td>1.764205</td>\n",
       "    </tr>\n",
       "    <tr>\n",
       "      <th>22</th>\n",
       "      <td>30</td>\n",
       "      <td>deploy</td>\n",
       "      <td>LinUCB (α=0.3, context:both)</td>\n",
       "      <td>1.76814</td>\n",
       "    </tr>\n",
       "    <tr>\n",
       "      <th>23</th>\n",
       "      <td>15</td>\n",
       "      <td>learn</td>\n",
       "      <td>LinUCB (α=0.3, context:both)</td>\n",
       "      <td>1.806135</td>\n",
       "    </tr>\n",
       "    <tr>\n",
       "      <th>24</th>\n",
       "      <td>15</td>\n",
       "      <td>deploy</td>\n",
       "      <td>LinUCB (α=0.3, context:both)</td>\n",
       "      <td>1.805315</td>\n",
       "    </tr>\n",
       "    <tr>\n",
       "      <th>25</th>\n",
       "      <td>100</td>\n",
       "      <td>learn</td>\n",
       "      <td>LinUCB (α=0.3, context:user)</td>\n",
       "      <td>1.693447</td>\n",
       "    </tr>\n",
       "    <tr>\n",
       "      <th>26</th>\n",
       "      <td>100</td>\n",
       "      <td>deploy</td>\n",
       "      <td>LinUCB (α=0.3, context:user)</td>\n",
       "      <td>1.644911</td>\n",
       "    </tr>\n",
       "    <tr>\n",
       "      <th>27</th>\n",
       "      <td>50</td>\n",
       "      <td>learn</td>\n",
       "      <td>LinUCB (α=0.3, context:user)</td>\n",
       "      <td>1.71929</td>\n",
       "    </tr>\n",
       "    <tr>\n",
       "      <th>28</th>\n",
       "      <td>50</td>\n",
       "      <td>deploy</td>\n",
       "      <td>LinUCB (α=0.3, context:user)</td>\n",
       "      <td>1.755778</td>\n",
       "    </tr>\n",
       "    <tr>\n",
       "      <th>29</th>\n",
       "      <td>30</td>\n",
       "      <td>learn</td>\n",
       "      <td>LinUCB (α=0.3, context:user)</td>\n",
       "      <td>1.739769</td>\n",
       "    </tr>\n",
       "    <tr>\n",
       "      <th>30</th>\n",
       "      <td>30</td>\n",
       "      <td>deploy</td>\n",
       "      <td>LinUCB (α=0.3, context:user)</td>\n",
       "      <td>1.776741</td>\n",
       "    </tr>\n",
       "    <tr>\n",
       "      <th>31</th>\n",
       "      <td>15</td>\n",
       "      <td>learn</td>\n",
       "      <td>LinUCB (α=0.3, context:user)</td>\n",
       "      <td>1.790011</td>\n",
       "    </tr>\n",
       "    <tr>\n",
       "      <th>32</th>\n",
       "      <td>15</td>\n",
       "      <td>deploy</td>\n",
       "      <td>LinUCB (α=0.3, context:user)</td>\n",
       "      <td>1.800344</td>\n",
       "    </tr>\n",
       "  </tbody>\n",
       "</table>\n",
       "</div>"
      ],
      "text/plain": [
       "0  Size  Bucket                     Algorithm  CTR Lift\n",
       "1   100   learn               Egreedy (ε=0.1)  1.425223\n",
       "2   100  deploy               Egreedy (ε=0.1)  1.406137\n",
       "3    50   learn               Egreedy (ε=0.1)  1.439401\n",
       "4    50  deploy               Egreedy (ε=0.1)  1.413857\n",
       "5    30   learn               Egreedy (ε=0.1)  1.422329\n",
       "6    30  deploy               Egreedy (ε=0.1)  1.507054\n",
       "7    15   learn               Egreedy (ε=0.1)  1.423876\n",
       "8    15  deploy               Egreedy (ε=0.1)  1.520571\n",
       "9   100   learn                  UCB1 (α=0.1)  1.472481\n",
       "10  100  deploy                  UCB1 (α=0.1)  1.508754\n",
       "11   50   learn                  UCB1 (α=0.1)   1.45436\n",
       "12   50  deploy                  UCB1 (α=0.1)  1.454104\n",
       "13   30   learn                  UCB1 (α=0.1)   1.50944\n",
       "14   30  deploy                  UCB1 (α=0.1)  1.621313\n",
       "15   15   learn                  UCB1 (α=0.1)  1.494622\n",
       "16   15  deploy                  UCB1 (α=0.1)   1.56577\n",
       "17  100   learn  LinUCB (α=0.3, context:both)  1.715395\n",
       "18  100  deploy  LinUCB (α=0.3, context:both)  1.689566\n",
       "19   50   learn  LinUCB (α=0.3, context:both)  1.754499\n",
       "20   50  deploy  LinUCB (α=0.3, context:both)  1.739397\n",
       "21   30   learn  LinUCB (α=0.3, context:both)  1.764205\n",
       "22   30  deploy  LinUCB (α=0.3, context:both)   1.76814\n",
       "23   15   learn  LinUCB (α=0.3, context:both)  1.806135\n",
       "24   15  deploy  LinUCB (α=0.3, context:both)  1.805315\n",
       "25  100   learn  LinUCB (α=0.3, context:user)  1.693447\n",
       "26  100  deploy  LinUCB (α=0.3, context:user)  1.644911\n",
       "27   50   learn  LinUCB (α=0.3, context:user)   1.71929\n",
       "28   50  deploy  LinUCB (α=0.3, context:user)  1.755778\n",
       "29   30   learn  LinUCB (α=0.3, context:user)  1.739769\n",
       "30   30  deploy  LinUCB (α=0.3, context:user)  1.776741\n",
       "31   15   learn  LinUCB (α=0.3, context:user)  1.790011\n",
       "32   15  deploy  LinUCB (α=0.3, context:user)  1.800344"
      ]
     },
     "execution_count": 6,
     "metadata": {},
     "output_type": "execute_result"
    }
   ],
   "source": [
    "df = pd.DataFrame(results)\n",
    "df.columns = df.iloc[0]\n",
    "df = df[1:]\n",
    "df"
   ]
  }
 ],
 "metadata": {
  "interpreter": {
   "hash": "34388d6b87bba4426978a16859b0088fa246685f31b06184b3a0d34079f30fb0"
  },
  "kernelspec": {
   "display_name": "probml",
   "language": "python",
   "name": "probml"
  },
  "language_info": {
   "codemirror_mode": {
    "name": "ipython",
    "version": 3
   },
   "file_extension": ".py",
   "mimetype": "text/x-python",
   "name": "python",
   "nbconvert_exporter": "python",
   "pygments_lexer": "ipython3",
   "version": "3.9.7"
  },
  "pycharm": {
   "stem_cell": {
    "cell_type": "raw",
    "metadata": {
     "collapsed": false
    },
    "source": []
   }
  }
 },
 "nbformat": 4,
 "nbformat_minor": 4
}
